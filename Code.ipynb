{
  "cells": [
    {
      "cell_type": "code",
      "execution_count": null,
      "metadata": {
        "id": "LKZioHk5wuZw"
      },
      "outputs": [],
      "source": [
        "import pandas as pd\n",
        "import numpy as np\n",
        "import matplotlib as plt\n",
        "import seaborn as sns"
      ]
    },
    {
      "cell_type": "code",
      "execution_count": null,
      "metadata": {
        "colab": {
          "base_uri": "https://localhost:8080/",
          "height": 473
        },
        "id": "D9MaX6bFxYU4",
        "outputId": "a61c2b76-619a-4612-ef07-9a421581cf74"
      },
      "outputs": [
        {
          "data": {
            "text/html": [
              "\n",
              "  <div id=\"df-51e8e2b8-9e68-4e9a-bf21-2823be2fd839\">\n",
              "    <div class=\"colab-df-container\">\n",
              "      <div>\n",
              "<style scoped>\n",
              "    .dataframe tbody tr th:only-of-type {\n",
              "        vertical-align: middle;\n",
              "    }\n",
              "\n",
              "    .dataframe tbody tr th {\n",
              "        vertical-align: top;\n",
              "    }\n",
              "\n",
              "    .dataframe thead th {\n",
              "        text-align: right;\n",
              "    }\n",
              "</style>\n",
              "<table border=\"1\" class=\"dataframe\">\n",
              "  <thead>\n",
              "    <tr style=\"text-align: right;\">\n",
              "      <th></th>\n",
              "      <th>Date</th>\n",
              "      <th>Location</th>\n",
              "      <th>MinTemp</th>\n",
              "      <th>MaxTemp</th>\n",
              "      <th>Rainfall</th>\n",
              "      <th>Evaporation</th>\n",
              "      <th>Sunshine</th>\n",
              "      <th>WindGustDir</th>\n",
              "      <th>WindGustSpeed</th>\n",
              "      <th>WindDir9am</th>\n",
              "      <th>...</th>\n",
              "      <th>Humidity9am</th>\n",
              "      <th>Humidity3pm</th>\n",
              "      <th>Pressure9am</th>\n",
              "      <th>Pressure3pm</th>\n",
              "      <th>Cloud9am</th>\n",
              "      <th>Cloud3pm</th>\n",
              "      <th>Temp9am</th>\n",
              "      <th>Temp3pm</th>\n",
              "      <th>RainToday</th>\n",
              "      <th>RainTomorrow</th>\n",
              "    </tr>\n",
              "  </thead>\n",
              "  <tbody>\n",
              "    <tr>\n",
              "      <th>0</th>\n",
              "      <td>01-12-2008</td>\n",
              "      <td>Albury</td>\n",
              "      <td>13.4</td>\n",
              "      <td>22.9</td>\n",
              "      <td>0.6</td>\n",
              "      <td>NaN</td>\n",
              "      <td>NaN</td>\n",
              "      <td>W</td>\n",
              "      <td>44.0</td>\n",
              "      <td>W</td>\n",
              "      <td>...</td>\n",
              "      <td>71.0</td>\n",
              "      <td>22.0</td>\n",
              "      <td>1007.7</td>\n",
              "      <td>1007.1</td>\n",
              "      <td>8.0</td>\n",
              "      <td>NaN</td>\n",
              "      <td>16.9</td>\n",
              "      <td>21.8</td>\n",
              "      <td>No</td>\n",
              "      <td>No</td>\n",
              "    </tr>\n",
              "    <tr>\n",
              "      <th>1</th>\n",
              "      <td>02-12-2008</td>\n",
              "      <td>Albury</td>\n",
              "      <td>7.4</td>\n",
              "      <td>25.1</td>\n",
              "      <td>0.0</td>\n",
              "      <td>NaN</td>\n",
              "      <td>NaN</td>\n",
              "      <td>WNW</td>\n",
              "      <td>44.0</td>\n",
              "      <td>NNW</td>\n",
              "      <td>...</td>\n",
              "      <td>44.0</td>\n",
              "      <td>25.0</td>\n",
              "      <td>1010.6</td>\n",
              "      <td>1007.8</td>\n",
              "      <td>NaN</td>\n",
              "      <td>NaN</td>\n",
              "      <td>17.2</td>\n",
              "      <td>24.3</td>\n",
              "      <td>No</td>\n",
              "      <td>No</td>\n",
              "    </tr>\n",
              "    <tr>\n",
              "      <th>2</th>\n",
              "      <td>03-12-2008</td>\n",
              "      <td>Albury</td>\n",
              "      <td>12.9</td>\n",
              "      <td>25.7</td>\n",
              "      <td>0.0</td>\n",
              "      <td>NaN</td>\n",
              "      <td>NaN</td>\n",
              "      <td>WSW</td>\n",
              "      <td>46.0</td>\n",
              "      <td>W</td>\n",
              "      <td>...</td>\n",
              "      <td>38.0</td>\n",
              "      <td>30.0</td>\n",
              "      <td>1007.6</td>\n",
              "      <td>1008.7</td>\n",
              "      <td>NaN</td>\n",
              "      <td>2.0</td>\n",
              "      <td>21.0</td>\n",
              "      <td>23.2</td>\n",
              "      <td>No</td>\n",
              "      <td>No</td>\n",
              "    </tr>\n",
              "    <tr>\n",
              "      <th>3</th>\n",
              "      <td>04-12-2008</td>\n",
              "      <td>Albury</td>\n",
              "      <td>9.2</td>\n",
              "      <td>28.0</td>\n",
              "      <td>0.0</td>\n",
              "      <td>NaN</td>\n",
              "      <td>NaN</td>\n",
              "      <td>NE</td>\n",
              "      <td>24.0</td>\n",
              "      <td>SE</td>\n",
              "      <td>...</td>\n",
              "      <td>45.0</td>\n",
              "      <td>16.0</td>\n",
              "      <td>1017.6</td>\n",
              "      <td>1012.8</td>\n",
              "      <td>NaN</td>\n",
              "      <td>NaN</td>\n",
              "      <td>18.1</td>\n",
              "      <td>26.5</td>\n",
              "      <td>No</td>\n",
              "      <td>No</td>\n",
              "    </tr>\n",
              "    <tr>\n",
              "      <th>4</th>\n",
              "      <td>05-12-2008</td>\n",
              "      <td>Albury</td>\n",
              "      <td>17.5</td>\n",
              "      <td>32.3</td>\n",
              "      <td>1.0</td>\n",
              "      <td>NaN</td>\n",
              "      <td>NaN</td>\n",
              "      <td>W</td>\n",
              "      <td>41.0</td>\n",
              "      <td>ENE</td>\n",
              "      <td>...</td>\n",
              "      <td>82.0</td>\n",
              "      <td>33.0</td>\n",
              "      <td>1010.8</td>\n",
              "      <td>1006.0</td>\n",
              "      <td>7.0</td>\n",
              "      <td>8.0</td>\n",
              "      <td>17.8</td>\n",
              "      <td>29.7</td>\n",
              "      <td>No</td>\n",
              "      <td>No</td>\n",
              "    </tr>\n",
              "  </tbody>\n",
              "</table>\n",
              "<p>5 rows × 23 columns</p>\n",
              "</div>\n",
              "      <button class=\"colab-df-convert\" onclick=\"convertToInteractive('df-51e8e2b8-9e68-4e9a-bf21-2823be2fd839')\"\n",
              "              title=\"Convert this dataframe to an interactive table.\"\n",
              "              style=\"display:none;\">\n",
              "        \n",
              "  <svg xmlns=\"http://www.w3.org/2000/svg\" height=\"24px\"viewBox=\"0 0 24 24\"\n",
              "       width=\"24px\">\n",
              "    <path d=\"M0 0h24v24H0V0z\" fill=\"none\"/>\n",
              "    <path d=\"M18.56 5.44l.94 2.06.94-2.06 2.06-.94-2.06-.94-.94-2.06-.94 2.06-2.06.94zm-11 1L8.5 8.5l.94-2.06 2.06-.94-2.06-.94L8.5 2.5l-.94 2.06-2.06.94zm10 10l.94 2.06.94-2.06 2.06-.94-2.06-.94-.94-2.06-.94 2.06-2.06.94z\"/><path d=\"M17.41 7.96l-1.37-1.37c-.4-.4-.92-.59-1.43-.59-.52 0-1.04.2-1.43.59L10.3 9.45l-7.72 7.72c-.78.78-.78 2.05 0 2.83L4 21.41c.39.39.9.59 1.41.59.51 0 1.02-.2 1.41-.59l7.78-7.78 2.81-2.81c.8-.78.8-2.07 0-2.86zM5.41 20L4 18.59l7.72-7.72 1.47 1.35L5.41 20z\"/>\n",
              "  </svg>\n",
              "      </button>\n",
              "      \n",
              "  <style>\n",
              "    .colab-df-container {\n",
              "      display:flex;\n",
              "      flex-wrap:wrap;\n",
              "      gap: 12px;\n",
              "    }\n",
              "\n",
              "    .colab-df-convert {\n",
              "      background-color: #E8F0FE;\n",
              "      border: none;\n",
              "      border-radius: 50%;\n",
              "      cursor: pointer;\n",
              "      display: none;\n",
              "      fill: #1967D2;\n",
              "      height: 32px;\n",
              "      padding: 0 0 0 0;\n",
              "      width: 32px;\n",
              "    }\n",
              "\n",
              "    .colab-df-convert:hover {\n",
              "      background-color: #E2EBFA;\n",
              "      box-shadow: 0px 1px 2px rgba(60, 64, 67, 0.3), 0px 1px 3px 1px rgba(60, 64, 67, 0.15);\n",
              "      fill: #174EA6;\n",
              "    }\n",
              "\n",
              "    [theme=dark] .colab-df-convert {\n",
              "      background-color: #3B4455;\n",
              "      fill: #D2E3FC;\n",
              "    }\n",
              "\n",
              "    [theme=dark] .colab-df-convert:hover {\n",
              "      background-color: #434B5C;\n",
              "      box-shadow: 0px 1px 3px 1px rgba(0, 0, 0, 0.15);\n",
              "      filter: drop-shadow(0px 1px 2px rgba(0, 0, 0, 0.3));\n",
              "      fill: #FFFFFF;\n",
              "    }\n",
              "  </style>\n",
              "\n",
              "      <script>\n",
              "        const buttonEl =\n",
              "          document.querySelector('#df-51e8e2b8-9e68-4e9a-bf21-2823be2fd839 button.colab-df-convert');\n",
              "        buttonEl.style.display =\n",
              "          google.colab.kernel.accessAllowed ? 'block' : 'none';\n",
              "\n",
              "        async function convertToInteractive(key) {\n",
              "          const element = document.querySelector('#df-51e8e2b8-9e68-4e9a-bf21-2823be2fd839');\n",
              "          const dataTable =\n",
              "            await google.colab.kernel.invokeFunction('convertToInteractive',\n",
              "                                                     [key], {});\n",
              "          if (!dataTable) return;\n",
              "\n",
              "          const docLinkHtml = 'Like what you see? Visit the ' +\n",
              "            '<a target=\"_blank\" href=https://colab.research.google.com/notebooks/data_table.ipynb>data table notebook</a>'\n",
              "            + ' to learn more about interactive tables.';\n",
              "          element.innerHTML = '';\n",
              "          dataTable['output_type'] = 'display_data';\n",
              "          await google.colab.output.renderOutput(dataTable, element);\n",
              "          const docLink = document.createElement('div');\n",
              "          docLink.innerHTML = docLinkHtml;\n",
              "          element.appendChild(docLink);\n",
              "        }\n",
              "      </script>\n",
              "    </div>\n",
              "  </div>\n",
              "  "
            ],
            "text/plain": [
              "         Date Location  MinTemp  MaxTemp  Rainfall  Evaporation  Sunshine  \\\n",
              "0  01-12-2008   Albury     13.4     22.9       0.6          NaN       NaN   \n",
              "1  02-12-2008   Albury      7.4     25.1       0.0          NaN       NaN   \n",
              "2  03-12-2008   Albury     12.9     25.7       0.0          NaN       NaN   \n",
              "3  04-12-2008   Albury      9.2     28.0       0.0          NaN       NaN   \n",
              "4  05-12-2008   Albury     17.5     32.3       1.0          NaN       NaN   \n",
              "\n",
              "  WindGustDir  WindGustSpeed WindDir9am  ... Humidity9am  Humidity3pm  \\\n",
              "0           W           44.0          W  ...        71.0         22.0   \n",
              "1         WNW           44.0        NNW  ...        44.0         25.0   \n",
              "2         WSW           46.0          W  ...        38.0         30.0   \n",
              "3          NE           24.0         SE  ...        45.0         16.0   \n",
              "4           W           41.0        ENE  ...        82.0         33.0   \n",
              "\n",
              "   Pressure9am  Pressure3pm  Cloud9am  Cloud3pm  Temp9am  Temp3pm  RainToday  \\\n",
              "0       1007.7       1007.1       8.0       NaN     16.9     21.8         No   \n",
              "1       1010.6       1007.8       NaN       NaN     17.2     24.3         No   \n",
              "2       1007.6       1008.7       NaN       2.0     21.0     23.2         No   \n",
              "3       1017.6       1012.8       NaN       NaN     18.1     26.5         No   \n",
              "4       1010.8       1006.0       7.0       8.0     17.8     29.7         No   \n",
              "\n",
              "   RainTomorrow  \n",
              "0            No  \n",
              "1            No  \n",
              "2            No  \n",
              "3            No  \n",
              "4            No  \n",
              "\n",
              "[5 rows x 23 columns]"
            ]
          },
          "execution_count": 2,
          "metadata": {},
          "output_type": "execute_result"
        }
      ],
      "source": [
        "data=pd.read_csv(\"weatherAUS.csv\")\n",
        "data.head()"
      ]
    },
    {
      "cell_type": "code",
      "execution_count": null,
      "metadata": {
        "colab": {
          "base_uri": "https://localhost:8080/"
        },
        "id": "wQ6gexylxYXe",
        "outputId": "a23551c7-a950-4a71-cade-ea9ec44158dc"
      },
      "outputs": [
        {
          "name": "stdout",
          "output_type": "stream",
          "text": [
            "<class 'pandas.core.frame.DataFrame'>\n",
            "RangeIndex: 145460 entries, 0 to 145459\n",
            "Data columns (total 23 columns):\n",
            " #   Column         Non-Null Count   Dtype  \n",
            "---  ------         --------------   -----  \n",
            " 0   Date           145460 non-null  object \n",
            " 1   Location       145460 non-null  object \n",
            " 2   MinTemp        143975 non-null  float64\n",
            " 3   MaxTemp        144199 non-null  float64\n",
            " 4   Rainfall       142199 non-null  float64\n",
            " 5   Evaporation    82670 non-null   float64\n",
            " 6   Sunshine       75625 non-null   float64\n",
            " 7   WindGustDir    135134 non-null  object \n",
            " 8   WindGustSpeed  135197 non-null  float64\n",
            " 9   WindDir9am     134894 non-null  object \n",
            " 10  WindDir3pm     141232 non-null  object \n",
            " 11  WindSpeed9am   143693 non-null  float64\n",
            " 12  WindSpeed3pm   142398 non-null  float64\n",
            " 13  Humidity9am    142806 non-null  float64\n",
            " 14  Humidity3pm    140953 non-null  float64\n",
            " 15  Pressure9am    130395 non-null  float64\n",
            " 16  Pressure3pm    130432 non-null  float64\n",
            " 17  Cloud9am       89572 non-null   float64\n",
            " 18  Cloud3pm       86102 non-null   float64\n",
            " 19  Temp9am        143693 non-null  float64\n",
            " 20  Temp3pm        141851 non-null  float64\n",
            " 21  RainToday      142199 non-null  object \n",
            " 22  RainTomorrow   142193 non-null  object \n",
            "dtypes: float64(16), object(7)\n",
            "memory usage: 25.5+ MB\n"
          ]
        }
      ],
      "source": [
        "data.info()"
      ]
    },
    {
      "cell_type": "code",
      "execution_count": null,
      "metadata": {
        "colab": {
          "base_uri": "https://localhost:8080/",
          "height": 551
        },
        "id": "wnpuUtPfxYaG",
        "outputId": "81f1c857-e477-425a-9890-127056814de3"
      },
      "outputs": [
        {
          "data": {
            "text/html": [
              "\n",
              "  <div id=\"df-fb26d4c9-c796-4270-88cf-3c02dc321de0\">\n",
              "    <div class=\"colab-df-container\">\n",
              "      <div>\n",
              "<style scoped>\n",
              "    .dataframe tbody tr th:only-of-type {\n",
              "        vertical-align: middle;\n",
              "    }\n",
              "\n",
              "    .dataframe tbody tr th {\n",
              "        vertical-align: top;\n",
              "    }\n",
              "\n",
              "    .dataframe thead th {\n",
              "        text-align: right;\n",
              "    }\n",
              "</style>\n",
              "<table border=\"1\" class=\"dataframe\">\n",
              "  <thead>\n",
              "    <tr style=\"text-align: right;\">\n",
              "      <th></th>\n",
              "      <th>count</th>\n",
              "      <th>mean</th>\n",
              "      <th>std</th>\n",
              "      <th>min</th>\n",
              "      <th>25%</th>\n",
              "      <th>50%</th>\n",
              "      <th>75%</th>\n",
              "      <th>max</th>\n",
              "    </tr>\n",
              "  </thead>\n",
              "  <tbody>\n",
              "    <tr>\n",
              "      <th>MinTemp</th>\n",
              "      <td>143975.0</td>\n",
              "      <td>12.194034</td>\n",
              "      <td>6.398495</td>\n",
              "      <td>-8.5</td>\n",
              "      <td>7.6</td>\n",
              "      <td>12.0</td>\n",
              "      <td>16.9</td>\n",
              "      <td>33.9</td>\n",
              "    </tr>\n",
              "    <tr>\n",
              "      <th>MaxTemp</th>\n",
              "      <td>144199.0</td>\n",
              "      <td>23.221348</td>\n",
              "      <td>7.119049</td>\n",
              "      <td>-4.8</td>\n",
              "      <td>17.9</td>\n",
              "      <td>22.6</td>\n",
              "      <td>28.2</td>\n",
              "      <td>48.1</td>\n",
              "    </tr>\n",
              "    <tr>\n",
              "      <th>Rainfall</th>\n",
              "      <td>142199.0</td>\n",
              "      <td>2.360918</td>\n",
              "      <td>8.478060</td>\n",
              "      <td>0.0</td>\n",
              "      <td>0.0</td>\n",
              "      <td>0.0</td>\n",
              "      <td>0.8</td>\n",
              "      <td>371.0</td>\n",
              "    </tr>\n",
              "    <tr>\n",
              "      <th>Evaporation</th>\n",
              "      <td>82670.0</td>\n",
              "      <td>5.468232</td>\n",
              "      <td>4.193704</td>\n",
              "      <td>0.0</td>\n",
              "      <td>2.6</td>\n",
              "      <td>4.8</td>\n",
              "      <td>7.4</td>\n",
              "      <td>145.0</td>\n",
              "    </tr>\n",
              "    <tr>\n",
              "      <th>Sunshine</th>\n",
              "      <td>75625.0</td>\n",
              "      <td>7.611178</td>\n",
              "      <td>3.785483</td>\n",
              "      <td>0.0</td>\n",
              "      <td>4.8</td>\n",
              "      <td>8.4</td>\n",
              "      <td>10.6</td>\n",
              "      <td>14.5</td>\n",
              "    </tr>\n",
              "    <tr>\n",
              "      <th>WindGustSpeed</th>\n",
              "      <td>135197.0</td>\n",
              "      <td>40.035230</td>\n",
              "      <td>13.607062</td>\n",
              "      <td>6.0</td>\n",
              "      <td>31.0</td>\n",
              "      <td>39.0</td>\n",
              "      <td>48.0</td>\n",
              "      <td>135.0</td>\n",
              "    </tr>\n",
              "    <tr>\n",
              "      <th>WindSpeed9am</th>\n",
              "      <td>143693.0</td>\n",
              "      <td>14.043426</td>\n",
              "      <td>8.915375</td>\n",
              "      <td>0.0</td>\n",
              "      <td>7.0</td>\n",
              "      <td>13.0</td>\n",
              "      <td>19.0</td>\n",
              "      <td>130.0</td>\n",
              "    </tr>\n",
              "    <tr>\n",
              "      <th>WindSpeed3pm</th>\n",
              "      <td>142398.0</td>\n",
              "      <td>18.662657</td>\n",
              "      <td>8.809800</td>\n",
              "      <td>0.0</td>\n",
              "      <td>13.0</td>\n",
              "      <td>19.0</td>\n",
              "      <td>24.0</td>\n",
              "      <td>87.0</td>\n",
              "    </tr>\n",
              "    <tr>\n",
              "      <th>Humidity9am</th>\n",
              "      <td>142806.0</td>\n",
              "      <td>68.880831</td>\n",
              "      <td>19.029164</td>\n",
              "      <td>0.0</td>\n",
              "      <td>57.0</td>\n",
              "      <td>70.0</td>\n",
              "      <td>83.0</td>\n",
              "      <td>100.0</td>\n",
              "    </tr>\n",
              "    <tr>\n",
              "      <th>Humidity3pm</th>\n",
              "      <td>140953.0</td>\n",
              "      <td>51.539116</td>\n",
              "      <td>20.795902</td>\n",
              "      <td>0.0</td>\n",
              "      <td>37.0</td>\n",
              "      <td>52.0</td>\n",
              "      <td>66.0</td>\n",
              "      <td>100.0</td>\n",
              "    </tr>\n",
              "    <tr>\n",
              "      <th>Pressure9am</th>\n",
              "      <td>130395.0</td>\n",
              "      <td>1017.649940</td>\n",
              "      <td>7.106530</td>\n",
              "      <td>980.5</td>\n",
              "      <td>1012.9</td>\n",
              "      <td>1017.6</td>\n",
              "      <td>1022.4</td>\n",
              "      <td>1041.0</td>\n",
              "    </tr>\n",
              "    <tr>\n",
              "      <th>Pressure3pm</th>\n",
              "      <td>130432.0</td>\n",
              "      <td>1015.255889</td>\n",
              "      <td>7.037414</td>\n",
              "      <td>977.1</td>\n",
              "      <td>1010.4</td>\n",
              "      <td>1015.2</td>\n",
              "      <td>1020.0</td>\n",
              "      <td>1039.6</td>\n",
              "    </tr>\n",
              "    <tr>\n",
              "      <th>Cloud9am</th>\n",
              "      <td>89572.0</td>\n",
              "      <td>4.447461</td>\n",
              "      <td>2.887159</td>\n",
              "      <td>0.0</td>\n",
              "      <td>1.0</td>\n",
              "      <td>5.0</td>\n",
              "      <td>7.0</td>\n",
              "      <td>9.0</td>\n",
              "    </tr>\n",
              "    <tr>\n",
              "      <th>Cloud3pm</th>\n",
              "      <td>86102.0</td>\n",
              "      <td>4.509930</td>\n",
              "      <td>2.720357</td>\n",
              "      <td>0.0</td>\n",
              "      <td>2.0</td>\n",
              "      <td>5.0</td>\n",
              "      <td>7.0</td>\n",
              "      <td>9.0</td>\n",
              "    </tr>\n",
              "    <tr>\n",
              "      <th>Temp9am</th>\n",
              "      <td>143693.0</td>\n",
              "      <td>16.990631</td>\n",
              "      <td>6.488753</td>\n",
              "      <td>-7.2</td>\n",
              "      <td>12.3</td>\n",
              "      <td>16.7</td>\n",
              "      <td>21.6</td>\n",
              "      <td>40.2</td>\n",
              "    </tr>\n",
              "    <tr>\n",
              "      <th>Temp3pm</th>\n",
              "      <td>141851.0</td>\n",
              "      <td>21.683390</td>\n",
              "      <td>6.936650</td>\n",
              "      <td>-5.4</td>\n",
              "      <td>16.6</td>\n",
              "      <td>21.1</td>\n",
              "      <td>26.4</td>\n",
              "      <td>46.7</td>\n",
              "    </tr>\n",
              "  </tbody>\n",
              "</table>\n",
              "</div>\n",
              "      <button class=\"colab-df-convert\" onclick=\"convertToInteractive('df-fb26d4c9-c796-4270-88cf-3c02dc321de0')\"\n",
              "              title=\"Convert this dataframe to an interactive table.\"\n",
              "              style=\"display:none;\">\n",
              "        \n",
              "  <svg xmlns=\"http://www.w3.org/2000/svg\" height=\"24px\"viewBox=\"0 0 24 24\"\n",
              "       width=\"24px\">\n",
              "    <path d=\"M0 0h24v24H0V0z\" fill=\"none\"/>\n",
              "    <path d=\"M18.56 5.44l.94 2.06.94-2.06 2.06-.94-2.06-.94-.94-2.06-.94 2.06-2.06.94zm-11 1L8.5 8.5l.94-2.06 2.06-.94-2.06-.94L8.5 2.5l-.94 2.06-2.06.94zm10 10l.94 2.06.94-2.06 2.06-.94-2.06-.94-.94-2.06-.94 2.06-2.06.94z\"/><path d=\"M17.41 7.96l-1.37-1.37c-.4-.4-.92-.59-1.43-.59-.52 0-1.04.2-1.43.59L10.3 9.45l-7.72 7.72c-.78.78-.78 2.05 0 2.83L4 21.41c.39.39.9.59 1.41.59.51 0 1.02-.2 1.41-.59l7.78-7.78 2.81-2.81c.8-.78.8-2.07 0-2.86zM5.41 20L4 18.59l7.72-7.72 1.47 1.35L5.41 20z\"/>\n",
              "  </svg>\n",
              "      </button>\n",
              "      \n",
              "  <style>\n",
              "    .colab-df-container {\n",
              "      display:flex;\n",
              "      flex-wrap:wrap;\n",
              "      gap: 12px;\n",
              "    }\n",
              "\n",
              "    .colab-df-convert {\n",
              "      background-color: #E8F0FE;\n",
              "      border: none;\n",
              "      border-radius: 50%;\n",
              "      cursor: pointer;\n",
              "      display: none;\n",
              "      fill: #1967D2;\n",
              "      height: 32px;\n",
              "      padding: 0 0 0 0;\n",
              "      width: 32px;\n",
              "    }\n",
              "\n",
              "    .colab-df-convert:hover {\n",
              "      background-color: #E2EBFA;\n",
              "      box-shadow: 0px 1px 2px rgba(60, 64, 67, 0.3), 0px 1px 3px 1px rgba(60, 64, 67, 0.15);\n",
              "      fill: #174EA6;\n",
              "    }\n",
              "\n",
              "    [theme=dark] .colab-df-convert {\n",
              "      background-color: #3B4455;\n",
              "      fill: #D2E3FC;\n",
              "    }\n",
              "\n",
              "    [theme=dark] .colab-df-convert:hover {\n",
              "      background-color: #434B5C;\n",
              "      box-shadow: 0px 1px 3px 1px rgba(0, 0, 0, 0.15);\n",
              "      filter: drop-shadow(0px 1px 2px rgba(0, 0, 0, 0.3));\n",
              "      fill: #FFFFFF;\n",
              "    }\n",
              "  </style>\n",
              "\n",
              "      <script>\n",
              "        const buttonEl =\n",
              "          document.querySelector('#df-fb26d4c9-c796-4270-88cf-3c02dc321de0 button.colab-df-convert');\n",
              "        buttonEl.style.display =\n",
              "          google.colab.kernel.accessAllowed ? 'block' : 'none';\n",
              "\n",
              "        async function convertToInteractive(key) {\n",
              "          const element = document.querySelector('#df-fb26d4c9-c796-4270-88cf-3c02dc321de0');\n",
              "          const dataTable =\n",
              "            await google.colab.kernel.invokeFunction('convertToInteractive',\n",
              "                                                     [key], {});\n",
              "          if (!dataTable) return;\n",
              "\n",
              "          const docLinkHtml = 'Like what you see? Visit the ' +\n",
              "            '<a target=\"_blank\" href=https://colab.research.google.com/notebooks/data_table.ipynb>data table notebook</a>'\n",
              "            + ' to learn more about interactive tables.';\n",
              "          element.innerHTML = '';\n",
              "          dataTable['output_type'] = 'display_data';\n",
              "          await google.colab.output.renderOutput(dataTable, element);\n",
              "          const docLink = document.createElement('div');\n",
              "          docLink.innerHTML = docLinkHtml;\n",
              "          element.appendChild(docLink);\n",
              "        }\n",
              "      </script>\n",
              "    </div>\n",
              "  </div>\n",
              "  "
            ],
            "text/plain": [
              "                  count         mean        std    min     25%     50%  \\\n",
              "MinTemp        143975.0    12.194034   6.398495   -8.5     7.6    12.0   \n",
              "MaxTemp        144199.0    23.221348   7.119049   -4.8    17.9    22.6   \n",
              "Rainfall       142199.0     2.360918   8.478060    0.0     0.0     0.0   \n",
              "Evaporation     82670.0     5.468232   4.193704    0.0     2.6     4.8   \n",
              "Sunshine        75625.0     7.611178   3.785483    0.0     4.8     8.4   \n",
              "WindGustSpeed  135197.0    40.035230  13.607062    6.0    31.0    39.0   \n",
              "WindSpeed9am   143693.0    14.043426   8.915375    0.0     7.0    13.0   \n",
              "WindSpeed3pm   142398.0    18.662657   8.809800    0.0    13.0    19.0   \n",
              "Humidity9am    142806.0    68.880831  19.029164    0.0    57.0    70.0   \n",
              "Humidity3pm    140953.0    51.539116  20.795902    0.0    37.0    52.0   \n",
              "Pressure9am    130395.0  1017.649940   7.106530  980.5  1012.9  1017.6   \n",
              "Pressure3pm    130432.0  1015.255889   7.037414  977.1  1010.4  1015.2   \n",
              "Cloud9am        89572.0     4.447461   2.887159    0.0     1.0     5.0   \n",
              "Cloud3pm        86102.0     4.509930   2.720357    0.0     2.0     5.0   \n",
              "Temp9am        143693.0    16.990631   6.488753   -7.2    12.3    16.7   \n",
              "Temp3pm        141851.0    21.683390   6.936650   -5.4    16.6    21.1   \n",
              "\n",
              "                  75%     max  \n",
              "MinTemp          16.9    33.9  \n",
              "MaxTemp          28.2    48.1  \n",
              "Rainfall          0.8   371.0  \n",
              "Evaporation       7.4   145.0  \n",
              "Sunshine         10.6    14.5  \n",
              "WindGustSpeed    48.0   135.0  \n",
              "WindSpeed9am     19.0   130.0  \n",
              "WindSpeed3pm     24.0    87.0  \n",
              "Humidity9am      83.0   100.0  \n",
              "Humidity3pm      66.0   100.0  \n",
              "Pressure9am    1022.4  1041.0  \n",
              "Pressure3pm    1020.0  1039.6  \n",
              "Cloud9am          7.0     9.0  \n",
              "Cloud3pm          7.0     9.0  \n",
              "Temp9am          21.6    40.2  \n",
              "Temp3pm          26.4    46.7  "
            ]
          },
          "execution_count": 4,
          "metadata": {},
          "output_type": "execute_result"
        }
      ],
      "source": [
        "#1.Display the statistical summary about the dataset\n",
        "data.describe().T"
      ]
    },
    {
      "cell_type": "code",
      "execution_count": null,
      "metadata": {
        "colab": {
          "base_uri": "https://localhost:8080/"
        },
        "id": "cLarDih3xYcs",
        "outputId": "ddcfc0fa-46d4-4a9b-8e52-8bc420f3e086"
      },
      "outputs": [
        {
          "data": {
            "text/plain": [
              "Date                 0\n",
              "Location             0\n",
              "MinTemp           1485\n",
              "MaxTemp           1261\n",
              "Rainfall          3261\n",
              "Evaporation      62790\n",
              "Sunshine         69835\n",
              "WindGustDir      10326\n",
              "WindGustSpeed    10263\n",
              "WindDir9am       10566\n",
              "WindDir3pm        4228\n",
              "WindSpeed9am      1767\n",
              "WindSpeed3pm      3062\n",
              "Humidity9am       2654\n",
              "Humidity3pm       4507\n",
              "Pressure9am      15065\n",
              "Pressure3pm      15028\n",
              "Cloud9am         55888\n",
              "Cloud3pm         59358\n",
              "Temp9am           1767\n",
              "Temp3pm           3609\n",
              "RainToday         3261\n",
              "RainTomorrow      3267\n",
              "dtype: int64"
            ]
          },
          "execution_count": 5,
          "metadata": {},
          "output_type": "execute_result"
        }
      ],
      "source": [
        "#2.Check to see if the dataset contains any Null values. If so, replace the null value with that column mean/mode as appropriate.\n",
        "data.isnull().sum()"
      ]
    },
    {
      "cell_type": "code",
      "execution_count": null,
      "metadata": {
        "colab": {
          "base_uri": "https://localhost:8080/"
        },
        "id": "bzwrIOb8xYfO",
        "outputId": "4e86dc5e-5eb4-438f-9e0f-a110f68907a1"
      },
      "outputs": [
        {
          "name": "stdout",
          "output_type": "stream",
          "text": [
            "Date             0\n",
            "Location         0\n",
            "MinTemp          0\n",
            "MaxTemp          0\n",
            "Rainfall         0\n",
            "Evaporation      0\n",
            "Sunshine         0\n",
            "WindGustDir      0\n",
            "WindGustSpeed    0\n",
            "WindDir9am       0\n",
            "WindDir3pm       0\n",
            "WindSpeed9am     0\n",
            "WindSpeed3pm     0\n",
            "Humidity9am      0\n",
            "Humidity3pm      0\n",
            "Pressure9am      0\n",
            "Pressure3pm      0\n",
            "Cloud9am         0\n",
            "Cloud3pm         0\n",
            "Temp9am          0\n",
            "Temp3pm          0\n",
            "RainToday        0\n",
            "RainTomorrow     0\n",
            "dtype: int64\n"
          ]
        }
      ],
      "source": [
        "for col in data.columns:\n",
        "  if (data[col].isnull()).any()==True:\n",
        "    if data[col].dtype=='float':\n",
        "      data[col]=data[col].replace(np.nan,data[col].mean())\n",
        "    if data[col].dtype=='object':\n",
        "      data[col]=data[col].replace(np.nan,data[col].mode()[0])\n",
        "print(data.isnull().sum())"
      ]
    },
    {
      "cell_type": "code",
      "execution_count": null,
      "metadata": {
        "colab": {
          "base_uri": "https://localhost:8080/"
        },
        "id": "T6KuaTp3xYhl",
        "outputId": "af67775d-7625-411a-ca86-9166645f4a03"
      },
      "outputs": [
        {
          "data": {
            "text/plain": [
              "Date                 0\n",
              "Location             0\n",
              "MinTemp            159\n",
              "MaxTemp             14\n",
              "Rainfall         91080\n",
              "Evaporation        244\n",
              "Sunshine          2359\n",
              "WindGustDir          0\n",
              "WindGustSpeed        0\n",
              "WindDir9am           0\n",
              "WindDir3pm           0\n",
              "WindSpeed9am      8745\n",
              "WindSpeed3pm      1112\n",
              "Humidity9am          1\n",
              "Humidity3pm          4\n",
              "Pressure9am          0\n",
              "Pressure3pm          0\n",
              "Cloud9am          8642\n",
              "Cloud3pm          4974\n",
              "Temp9am             36\n",
              "Temp3pm             17\n",
              "RainToday            0\n",
              "RainTomorrow         0\n",
              "dtype: int64"
            ]
          },
          "execution_count": 7,
          "metadata": {},
          "output_type": "execute_result"
        }
      ],
      "source": [
        "#3. Check whether any feature has zero as its value. If required, replace with mean/mode value\n",
        "(data==0).sum(axis=0)\n"
      ]
    },
    {
      "cell_type": "code",
      "execution_count": null,
      "metadata": {
        "id": "rs17HbLNxYkP"
      },
      "outputs": [],
      "source": [
        "mean_Evaporation=round(data['Evaporation'].mean(),2)\n",
        "data['Evaporation']=data['Evaporation'].replace([0],mean_Evaporation)\n"
      ]
    },
    {
      "cell_type": "code",
      "execution_count": null,
      "metadata": {
        "colab": {
          "base_uri": "https://localhost:8080/"
        },
        "id": "SP-fKBnMxYm4",
        "outputId": "fa4d3d98-ae29-4a7d-c4e5-977a093d5168"
      },
      "outputs": [
        {
          "data": {
            "text/plain": [
              "Index(['MinTemp', 'MaxTemp', 'Rainfall', 'Evaporation', 'Sunshine',\n",
              "       'WindGustSpeed', 'WindSpeed9am', 'WindSpeed3pm', 'Humidity9am',\n",
              "       'Humidity3pm', 'Pressure9am', 'Pressure3pm', 'Cloud9am', 'Cloud3pm',\n",
              "       'Temp9am', 'Temp3pm', 'RainToday', 'RainTomorrow'],\n",
              "      dtype='object')"
            ]
          },
          "execution_count": 9,
          "metadata": {},
          "output_type": "execute_result"
        }
      ],
      "source": [
        "#4.Drop the given irrelevant features from dataset: [\"Date\",\"Location\",\"WindGustDir\",\"WindDir9am\",\"WindDir3pm\"]\n",
        "df=data.drop([\"Date\",\"Location\",\"WindGustDir\",\"WindDir9am\",\"WindDir3pm\"],axis=1)\n",
        "df.columns"
      ]
    },
    {
      "cell_type": "code",
      "execution_count": null,
      "metadata": {
        "colab": {
          "base_uri": "https://localhost:8080/",
          "height": 1000
        },
        "id": "XvFbffZGxYpg",
        "outputId": "d8b43699-88a9-45da-e009-fd66e0d8f6dd"
      },
      "outputs": [
        {
          "data": {
            "image/png": "[encoded data removed]",
            "text/plain": [
              "<Figure size 1440x1440 with 16 Axes>"
            ]
          },
          "metadata": {},
          "output_type": "display_data"
        }
      ],
      "source": [
        "#5. Plot histogram for each feature to check the distribution of data for each feature\n",
        "p=df.hist(figsize=(20,20))"
      ]
    },
    {
      "cell_type": "code",
      "execution_count": null,
      "metadata": {
        "colab": {
          "base_uri": "https://localhost:8080/"
        },
        "id": "2o5u7bpbxYsH",
        "outputId": "b96e1a50-9072-4581-e308-673ab8c8fae1"
      },
      "outputs": [
        {
          "data": {
            "text/plain": [
              "No     113583\n",
              "Yes     31877\n",
              "Name: RainTomorrow, dtype: int64"
            ]
          },
          "execution_count": 11,
          "metadata": {},
          "output_type": "execute_result"
        }
      ],
      "source": [
        "df[\"RainTomorrow\"].value_counts()"
      ]
    },
    {
      "cell_type": "code",
      "execution_count": null,
      "metadata": {
        "colab": {
          "base_uri": "https://localhost:8080/"
        },
        "id": "k8Lb304_xYud",
        "outputId": "5cdb5e82-20d6-4b1b-d84c-274ba3f4311f"
      },
      "outputs": [
        {
          "data": {
            "text/plain": [
              "No     113580\n",
              "Yes     31880\n",
              "Name: RainToday, dtype: int64"
            ]
          },
          "execution_count": 12,
          "metadata": {},
          "output_type": "execute_result"
        }
      ],
      "source": [
        "df[\"RainToday\"].value_counts()"
      ]
    },
    {
      "cell_type": "code",
      "execution_count": null,
      "metadata": {
        "id": "nrkUjTeDxYx2"
      },
      "outputs": [],
      "source": [
        "from sklearn import preprocessing\n",
        "lable_encoder=preprocessing.LabelEncoder()\n",
        "df[\"RainTomorrow\"]=lable_encoder.fit_transform(df[\"RainTomorrow\"])\n",
        "df[\"RainToday\"]=lable_encoder.fit_transform(df[\"RainToday\"])"
      ]
    },
    {
      "cell_type": "code",
      "execution_count": null,
      "metadata": {
        "colab": {
          "base_uri": "https://localhost:8080/"
        },
        "id": "XYJGTQCgyA5F",
        "outputId": "ed5dedba-2808-49b9-adb9-1d756c0bf447"
      },
      "outputs": [
        {
          "data": {
            "text/plain": [
              "0    113580\n",
              "1     31880\n",
              "Name: RainToday, dtype: int64"
            ]
          },
          "execution_count": 14,
          "metadata": {},
          "output_type": "execute_result"
        }
      ],
      "source": [
        "df[\"RainToday\"].value_counts()"
      ]
    },
    {
      "cell_type": "code",
      "execution_count": null,
      "metadata": {
        "id": "wIqfUyT-yA7d"
      },
      "outputs": [],
      "source": [
        "x=df.drop([\"RainTomorrow\"],axis=1)\n",
        "y=df[\"RainTomorrow\"]"
      ]
    },
    {
      "cell_type": "code",
      "execution_count": null,
      "metadata": {
        "colab": {
          "base_uri": "https://localhost:8080/"
        },
        "id": "Xet7fqQhyA-S",
        "outputId": "4a9f2d18-18b8-46c4-f04a-beb62b55b644"
      },
      "outputs": [
        {
          "name": "stdout",
          "output_type": "stream",
          "text": [
            "X values as array:\n",
            " [[13.4        22.9         0.6        ... 16.9        21.8\n",
            "   0.        ]\n",
            " [ 7.4        25.1         0.         ... 17.2        24.3\n",
            "   0.        ]\n",
            " [12.9        25.7         0.         ... 21.         23.2\n",
            "   0.        ]\n",
            " ...\n",
            " [ 5.4        26.9         0.         ... 12.5        26.1\n",
            "   0.        ]\n",
            " [ 7.8        27.          0.         ... 15.1        26.\n",
            "   0.        ]\n",
            " [14.9        23.22134828  0.         ... 15.         20.9\n",
            "   0.        ]]\n",
            "Y Values as array:\n",
            " [0 0 0 ... 0 0 0]\n"
          ]
        }
      ],
      "source": [
        "x_array=x.values\n",
        "y_array=y.values\n",
        "print(\"X values as array:\\n\", x_array)\n",
        "print(\"Y Values as array:\\n\",y_array)"
      ]
    },
    {
      "cell_type": "code",
      "execution_count": null,
      "metadata": {
        "colab": {
          "base_uri": "https://localhost:8080/"
        },
        "id": "8IH8A6CUyBBC",
        "outputId": "56d32f97-74b8-4147-be5f-1cb0b0ec43b7"
      },
      "outputs": [
        {
          "name": "stdout",
          "output_type": "stream",
          "text": [
            "[[ 1.89446615e-01 -4.53363105e-02 -2.10071794e-01 ... -1.40531282e-02\n",
            "   1.70232282e-02 -5.29795450e-01]\n",
            " [-7.53100728e-01  2.65043084e-01 -2.81649838e-01 ...  3.24642790e-02\n",
            "   3.81984952e-01 -5.29795450e-01]\n",
            " [ 1.10901003e-01  3.49692009e-01 -2.81649838e-01 ...  6.21684769e-01\n",
            "   2.21401794e-01 -5.29795450e-01]\n",
            " ...\n",
            " [-1.06728318e+00  5.18989861e-01 -2.81649838e-01 ... -6.96308433e-01\n",
            "   6.44757393e-01 -5.29795450e-01]\n",
            " [-6.90264238e-01  5.33098015e-01 -2.81649838e-01 ... -2.93157571e-01\n",
            "   6.30158924e-01 -5.29795450e-01]\n",
            " [ 4.25083451e-01  2.10513377e-14 -2.81649838e-01 ... -3.08663373e-01\n",
            "  -1.14362992e-01 -5.29795450e-01]]\n"
          ]
        }
      ],
      "source": [
        "from sklearn.preprocessing import StandardScaler\n",
        "sc=StandardScaler()\n",
        "x_scaled=sc.fit_transform(x_array)\n",
        "print(x_scaled)"
      ]
    },
    {
      "cell_type": "code",
      "execution_count": null,
      "metadata": {
        "colab": {
          "base_uri": "https://localhost:8080/",
          "height": 661
        },
        "id": "VKluQm11yBDX",
        "outputId": "8103a375-9da2-466a-b32d-4bded66e46b4"
      },
      "outputs": [
        {
          "data": {
            "text/html": [
              "\n",
              "  <div id=\"df-e2dac335-77ef-46a3-802a-07bdc67864da\">\n",
              "    <div class=\"colab-df-container\">\n",
              "      <div>\n",
              "<style scoped>\n",
              "    .dataframe tbody tr th:only-of-type {\n",
              "        vertical-align: middle;\n",
              "    }\n",
              "\n",
              "    .dataframe tbody tr th {\n",
              "        vertical-align: top;\n",
              "    }\n",
              "\n",
              "    .dataframe thead th {\n",
              "        text-align: right;\n",
              "    }\n",
              "</style>\n",
              "<table border=\"1\" class=\"dataframe\">\n",
              "  <thead>\n",
              "    <tr style=\"text-align: right;\">\n",
              "      <th></th>\n",
              "      <th>0</th>\n",
              "      <th>1</th>\n",
              "      <th>2</th>\n",
              "      <th>3</th>\n",
              "      <th>4</th>\n",
              "      <th>5</th>\n",
              "      <th>6</th>\n",
              "      <th>7</th>\n",
              "      <th>8</th>\n",
              "      <th>9</th>\n",
              "      <th>10</th>\n",
              "      <th>11</th>\n",
              "      <th>12</th>\n",
              "      <th>13</th>\n",
              "      <th>14</th>\n",
              "      <th>15</th>\n",
              "      <th>16</th>\n",
              "    </tr>\n",
              "  </thead>\n",
              "  <tbody>\n",
              "    <tr>\n",
              "      <th>0</th>\n",
              "      <td>0.189447</td>\n",
              "      <td>-4.533631e-02</td>\n",
              "      <td>-0.210072</td>\n",
              "      <td>-0.00291</td>\n",
              "      <td>-1.952415e-15</td>\n",
              "      <td>0.302234</td>\n",
              "      <td>0.672222</td>\n",
              "      <td>0.612323</td>\n",
              "      <td>0.112395</td>\n",
              "      <td>-1.442965</td>\n",
              "      <td>-1.478788</td>\n",
              "      <td>-1.223882</td>\n",
              "      <td>1.568037e+00</td>\n",
              "      <td>-8.487347e-16</td>\n",
              "      <td>-0.014053</td>\n",
              "      <td>0.017023</td>\n",
              "      <td>-0.529795</td>\n",
              "    </tr>\n",
              "    <tr>\n",
              "      <th>1</th>\n",
              "      <td>-0.753101</td>\n",
              "      <td>2.650431e-01</td>\n",
              "      <td>-0.281650</td>\n",
              "      <td>-0.00291</td>\n",
              "      <td>-1.952415e-15</td>\n",
              "      <td>0.302234</td>\n",
              "      <td>-1.133438</td>\n",
              "      <td>0.382874</td>\n",
              "      <td>-1.319609</td>\n",
              "      <td>-1.296417</td>\n",
              "      <td>-1.047782</td>\n",
              "      <td>-1.118839</td>\n",
              "      <td>-3.920285e-16</td>\n",
              "      <td>-8.487347e-16</td>\n",
              "      <td>0.032464</td>\n",
              "      <td>0.381985</td>\n",
              "      <td>-0.529795</td>\n",
              "    </tr>\n",
              "    <tr>\n",
              "      <th>2</th>\n",
              "      <td>0.110901</td>\n",
              "      <td>3.496920e-01</td>\n",
              "      <td>-0.281650</td>\n",
              "      <td>-0.00291</td>\n",
              "      <td>-1.952415e-15</td>\n",
              "      <td>0.454694</td>\n",
              "      <td>0.559368</td>\n",
              "      <td>0.841771</td>\n",
              "      <td>-1.637832</td>\n",
              "      <td>-1.052171</td>\n",
              "      <td>-1.493650</td>\n",
              "      <td>-0.983784</td>\n",
              "      <td>-3.920285e-16</td>\n",
              "      <td>-1.199232e+00</td>\n",
              "      <td>0.621685</td>\n",
              "      <td>0.221402</td>\n",
              "      <td>-0.529795</td>\n",
              "    </tr>\n",
              "    <tr>\n",
              "      <th>3</th>\n",
              "      <td>-0.470337</td>\n",
              "      <td>6.741796e-01</td>\n",
              "      <td>-0.281650</td>\n",
              "      <td>-0.00291</td>\n",
              "      <td>-1.952415e-15</td>\n",
              "      <td>-1.222364</td>\n",
              "      <td>-0.343462</td>\n",
              "      <td>-1.108541</td>\n",
              "      <td>-1.266572</td>\n",
              "      <td>-1.736061</td>\n",
              "      <td>-0.007422</td>\n",
              "      <td>-0.368534</td>\n",
              "      <td>-3.920285e-16</td>\n",
              "      <td>-8.487347e-16</td>\n",
              "      <td>0.172017</td>\n",
              "      <td>0.703151</td>\n",
              "      <td>-0.529795</td>\n",
              "    </tr>\n",
              "    <tr>\n",
              "      <th>4</th>\n",
              "      <td>0.833521</td>\n",
              "      <td>1.280830e+00</td>\n",
              "      <td>-0.162353</td>\n",
              "      <td>-0.00291</td>\n",
              "      <td>-1.952415e-15</td>\n",
              "      <td>0.073544</td>\n",
              "      <td>-0.794877</td>\n",
              "      <td>0.153426</td>\n",
              "      <td>0.695804</td>\n",
              "      <td>-0.905623</td>\n",
              "      <td>-1.018057</td>\n",
              "      <td>-1.388949</td>\n",
              "      <td>1.126652e+00</td>\n",
              "      <td>1.667539e+00</td>\n",
              "      <td>0.125499</td>\n",
              "      <td>1.170302</td>\n",
              "      <td>-0.529795</td>\n",
              "    </tr>\n",
              "    <tr>\n",
              "      <th>...</th>\n",
              "      <td>...</td>\n",
              "      <td>...</td>\n",
              "      <td>...</td>\n",
              "      <td>...</td>\n",
              "      <td>...</td>\n",
              "      <td>...</td>\n",
              "      <td>...</td>\n",
              "      <td>...</td>\n",
              "      <td>...</td>\n",
              "      <td>...</td>\n",
              "      <td>...</td>\n",
              "      <td>...</td>\n",
              "      <td>...</td>\n",
              "      <td>...</td>\n",
              "      <td>...</td>\n",
              "      <td>...</td>\n",
              "      <td>...</td>\n",
              "    </tr>\n",
              "    <tr>\n",
              "      <th>145455</th>\n",
              "      <td>-1.475720</td>\n",
              "      <td>2.520446e-02</td>\n",
              "      <td>-0.281650</td>\n",
              "      <td>-0.00291</td>\n",
              "      <td>-1.952415e-15</td>\n",
              "      <td>-0.688755</td>\n",
              "      <td>-0.117754</td>\n",
              "      <td>-0.879093</td>\n",
              "      <td>-0.948349</td>\n",
              "      <td>-1.345267</td>\n",
              "      <td>1.032937</td>\n",
              "      <td>0.756925</td>\n",
              "      <td>-3.920285e-16</td>\n",
              "      <td>-8.487347e-16</td>\n",
              "      <td>-1.068448</td>\n",
              "      <td>0.104614</td>\n",
              "      <td>-0.529795</td>\n",
              "    </tr>\n",
              "    <tr>\n",
              "      <th>145456</th>\n",
              "      <td>-1.350047</td>\n",
              "      <td>2.932594e-01</td>\n",
              "      <td>-0.281650</td>\n",
              "      <td>-0.00291</td>\n",
              "      <td>-1.952415e-15</td>\n",
              "      <td>-1.374824</td>\n",
              "      <td>-0.117754</td>\n",
              "      <td>-1.108541</td>\n",
              "      <td>-0.683163</td>\n",
              "      <td>-1.491815</td>\n",
              "      <td>0.869452</td>\n",
              "      <td>0.576852</td>\n",
              "      <td>-3.920285e-16</td>\n",
              "      <td>-8.487347e-16</td>\n",
              "      <td>-0.944401</td>\n",
              "      <td>0.411182</td>\n",
              "      <td>-0.529795</td>\n",
              "    </tr>\n",
              "    <tr>\n",
              "      <th>145457</th>\n",
              "      <td>-1.067283</td>\n",
              "      <td>5.189899e-01</td>\n",
              "      <td>-0.281650</td>\n",
              "      <td>-0.00291</td>\n",
              "      <td>-1.952415e-15</td>\n",
              "      <td>-0.231375</td>\n",
              "      <td>-0.569169</td>\n",
              "      <td>-1.108541</td>\n",
              "      <td>-0.842274</td>\n",
              "      <td>-1.345267</td>\n",
              "      <td>0.497895</td>\n",
              "      <td>0.231711</td>\n",
              "      <td>-3.920285e-16</td>\n",
              "      <td>-8.487347e-16</td>\n",
              "      <td>-0.696308</td>\n",
              "      <td>0.644757</td>\n",
              "      <td>-0.529795</td>\n",
              "    </tr>\n",
              "    <tr>\n",
              "      <th>145458</th>\n",
              "      <td>-0.690264</td>\n",
              "      <td>5.330980e-01</td>\n",
              "      <td>-0.281650</td>\n",
              "      <td>-0.00291</td>\n",
              "      <td>-1.952415e-15</td>\n",
              "      <td>-0.917445</td>\n",
              "      <td>-0.117754</td>\n",
              "      <td>-1.337990</td>\n",
              "      <td>-0.948349</td>\n",
              "      <td>-1.345267</td>\n",
              "      <td>0.260099</td>\n",
              "      <td>0.186693</td>\n",
              "      <td>-6.388874e-01</td>\n",
              "      <td>-1.199232e+00</td>\n",
              "      <td>-0.293158</td>\n",
              "      <td>0.630159</td>\n",
              "      <td>-0.529795</td>\n",
              "    </tr>\n",
              "    <tr>\n",
              "      <th>145459</th>\n",
              "      <td>0.425083</td>\n",
              "      <td>2.105134e-14</td>\n",
              "      <td>-0.281650</td>\n",
              "      <td>-0.00291</td>\n",
              "      <td>-1.952415e-15</td>\n",
              "      <td>0.000000</td>\n",
              "      <td>0.333660</td>\n",
              "      <td>-0.190747</td>\n",
              "      <td>-0.364940</td>\n",
              "      <td>-0.759075</td>\n",
              "      <td>0.378997</td>\n",
              "      <td>0.396778</td>\n",
              "      <td>1.568037e+00</td>\n",
              "      <td>1.667539e+00</td>\n",
              "      <td>-0.308663</td>\n",
              "      <td>-0.114363</td>\n",
              "      <td>-0.529795</td>\n",
              "    </tr>\n",
              "  </tbody>\n",
              "</table>\n",
              "<p>145460 rows × 17 columns</p>\n",
              "</div>\n",
              "      <button class=\"colab-df-convert\" onclick=\"convertToInteractive('df-e2dac335-77ef-46a3-802a-07bdc67864da')\"\n",
              "              title=\"Convert this dataframe to an interactive table.\"\n",
              "              style=\"display:none;\">\n",
              "        \n",
              "  <svg xmlns=\"http://www.w3.org/2000/svg\" height=\"24px\"viewBox=\"0 0 24 24\"\n",
              "       width=\"24px\">\n",
              "    <path d=\"M0 0h24v24H0V0z\" fill=\"none\"/>\n",
              "    <path d=\"M18.56 5.44l.94 2.06.94-2.06 2.06-.94-2.06-.94-.94-2.06-.94 2.06-2.06.94zm-11 1L8.5 8.5l.94-2.06 2.06-.94-2.06-.94L8.5 2.5l-.94 2.06-2.06.94zm10 10l.94 2.06.94-2.06 2.06-.94-2.06-.94-.94-2.06-.94 2.06-2.06.94z\"/><path d=\"M17.41 7.96l-1.37-1.37c-.4-.4-.92-.59-1.43-.59-.52 0-1.04.2-1.43.59L10.3 9.45l-7.72 7.72c-.78.78-.78 2.05 0 2.83L4 21.41c.39.39.9.59 1.41.59.51 0 1.02-.2 1.41-.59l7.78-7.78 2.81-2.81c.8-.78.8-2.07 0-2.86zM5.41 20L4 18.59l7.72-7.72 1.47 1.35L5.41 20z\"/>\n",
              "  </svg>\n",
              "      </button>\n",
              "      \n",
              "  <style>\n",
              "    .colab-df-container {\n",
              "      display:flex;\n",
              "      flex-wrap:wrap;\n",
              "      gap: 12px;\n",
              "    }\n",
              "\n",
              "    .colab-df-convert {\n",
              "      background-color: #E8F0FE;\n",
              "      border: none;\n",
              "      border-radius: 50%;\n",
              "      cursor: pointer;\n",
              "      display: none;\n",
              "      fill: #1967D2;\n",
              "      height: 32px;\n",
              "      padding: 0 0 0 0;\n",
              "      width: 32px;\n",
              "    }\n",
              "\n",
              "    .colab-df-convert:hover {\n",
              "      background-color: #E2EBFA;\n",
              "      box-shadow: 0px 1px 2px rgba(60, 64, 67, 0.3), 0px 1px 3px 1px rgba(60, 64, 67, 0.15);\n",
              "      fill: #174EA6;\n",
              "    }\n",
              "\n",
              "    [theme=dark] .colab-df-convert {\n",
              "      background-color: #3B4455;\n",
              "      fill: #D2E3FC;\n",
              "    }\n",
              "\n",
              "    [theme=dark] .colab-df-convert:hover {\n",
              "      background-color: #434B5C;\n",
              "      box-shadow: 0px 1px 3px 1px rgba(0, 0, 0, 0.15);\n",
              "      filter: drop-shadow(0px 1px 2px rgba(0, 0, 0, 0.3));\n",
              "      fill: #FFFFFF;\n",
              "    }\n",
              "  </style>\n",
              "\n",
              "      <script>\n",
              "        const buttonEl =\n",
              "          document.querySelector('#df-e2dac335-77ef-46a3-802a-07bdc67864da button.colab-df-convert');\n",
              "        buttonEl.style.display =\n",
              "          google.colab.kernel.accessAllowed ? 'block' : 'none';\n",
              "\n",
              "        async function convertToInteractive(key) {\n",
              "          const element = document.querySelector('#df-e2dac335-77ef-46a3-802a-07bdc67864da');\n",
              "          const dataTable =\n",
              "            await google.colab.kernel.invokeFunction('convertToInteractive',\n",
              "                                                     [key], {});\n",
              "          if (!dataTable) return;\n",
              "\n",
              "          const docLinkHtml = 'Like what you see? Visit the ' +\n",
              "            '<a target=\"_blank\" href=https://colab.research.google.com/notebooks/data_table.ipynb>data table notebook</a>'\n",
              "            + ' to learn more about interactive tables.';\n",
              "          element.innerHTML = '';\n",
              "          dataTable['output_type'] = 'display_data';\n",
              "          await google.colab.output.renderOutput(dataTable, element);\n",
              "          const docLink = document.createElement('div');\n",
              "          docLink.innerHTML = docLinkHtml;\n",
              "          element.appendChild(docLink);\n",
              "        }\n",
              "      </script>\n",
              "    </div>\n",
              "  </div>\n",
              "  "
            ],
            "text/plain": [
              "              0             1         2        3             4         5   \\\n",
              "0       0.189447 -4.533631e-02 -0.210072 -0.00291 -1.952415e-15  0.302234   \n",
              "1      -0.753101  2.650431e-01 -0.281650 -0.00291 -1.952415e-15  0.302234   \n",
              "2       0.110901  3.496920e-01 -0.281650 -0.00291 -1.952415e-15  0.454694   \n",
              "3      -0.470337  6.741796e-01 -0.281650 -0.00291 -1.952415e-15 -1.222364   \n",
              "4       0.833521  1.280830e+00 -0.162353 -0.00291 -1.952415e-15  0.073544   \n",
              "...          ...           ...       ...      ...           ...       ...   \n",
              "145455 -1.475720  2.520446e-02 -0.281650 -0.00291 -1.952415e-15 -0.688755   \n",
              "145456 -1.350047  2.932594e-01 -0.281650 -0.00291 -1.952415e-15 -1.374824   \n",
              "145457 -1.067283  5.189899e-01 -0.281650 -0.00291 -1.952415e-15 -0.231375   \n",
              "145458 -0.690264  5.330980e-01 -0.281650 -0.00291 -1.952415e-15 -0.917445   \n",
              "145459  0.425083  2.105134e-14 -0.281650 -0.00291 -1.952415e-15  0.000000   \n",
              "\n",
              "              6         7         8         9         10        11  \\\n",
              "0       0.672222  0.612323  0.112395 -1.442965 -1.478788 -1.223882   \n",
              "1      -1.133438  0.382874 -1.319609 -1.296417 -1.047782 -1.118839   \n",
              "2       0.559368  0.841771 -1.637832 -1.052171 -1.493650 -0.983784   \n",
              "3      -0.343462 -1.108541 -1.266572 -1.736061 -0.007422 -0.368534   \n",
              "4      -0.794877  0.153426  0.695804 -0.905623 -1.018057 -1.388949   \n",
              "...          ...       ...       ...       ...       ...       ...   \n",
              "145455 -0.117754 -0.879093 -0.948349 -1.345267  1.032937  0.756925   \n",
              "145456 -0.117754 -1.108541 -0.683163 -1.491815  0.869452  0.576852   \n",
              "145457 -0.569169 -1.108541 -0.842274 -1.345267  0.497895  0.231711   \n",
              "145458 -0.117754 -1.337990 -0.948349 -1.345267  0.260099  0.186693   \n",
              "145459  0.333660 -0.190747 -0.364940 -0.759075  0.378997  0.396778   \n",
              "\n",
              "                  12            13        14        15        16  \n",
              "0       1.568037e+00 -8.487347e-16 -0.014053  0.017023 -0.529795  \n",
              "1      -3.920285e-16 -8.487347e-16  0.032464  0.381985 -0.529795  \n",
              "2      -3.920285e-16 -1.199232e+00  0.621685  0.221402 -0.529795  \n",
              "3      -3.920285e-16 -8.487347e-16  0.172017  0.703151 -0.529795  \n",
              "4       1.126652e+00  1.667539e+00  0.125499  1.170302 -0.529795  \n",
              "...              ...           ...       ...       ...       ...  \n",
              "145455 -3.920285e-16 -8.487347e-16 -1.068448  0.104614 -0.529795  \n",
              "145456 -3.920285e-16 -8.487347e-16 -0.944401  0.411182 -0.529795  \n",
              "145457 -3.920285e-16 -8.487347e-16 -0.696308  0.644757 -0.529795  \n",
              "145458 -6.388874e-01 -1.199232e+00 -0.293158  0.630159 -0.529795  \n",
              "145459  1.568037e+00  1.667539e+00 -0.308663 -0.114363 -0.529795  \n",
              "\n",
              "[145460 rows x 17 columns]"
            ]
          },
          "execution_count": 18,
          "metadata": {},
          "output_type": "execute_result"
        }
      ],
      "source": [
        "c=pd.DataFrame(x_scaled)\n",
        "c"
      ]
    },
    {
      "cell_type": "code",
      "execution_count": null,
      "metadata": {
        "id": "yohVzh0iyBG7"
      },
      "outputs": [],
      "source": [
        "#6. Split the data into features and target variables. Normalize the feature variables.\n",
        "from sklearn.model_selection import train_test_split\n",
        "xtrain,xtest,ytrain,ytest=train_test_split(x_scaled,y,train_size=0.8,random_state=100)"
      ]
    },
    {
      "cell_type": "code",
      "execution_count": null,
      "metadata": {
        "colab": {
          "base_uri": "https://localhost:8080/"
        },
        "id": "vyOr76aiyUrA",
        "outputId": "f0d2afcb-14b0-42c2-9f7f-98a7f243d7fc"
      },
      "outputs": [
        {
          "data": {
            "text/plain": [
              "LogisticRegression()"
            ]
          },
          "execution_count": 20,
          "metadata": {},
          "output_type": "execute_result"
        }
      ],
      "source": [
        "from sklearn.linear_model import LogisticRegression\n",
        "lr=LogisticRegression()\n",
        "lr.fit(xtrain,ytrain)"
      ]
    },
    {
      "cell_type": "code",
      "execution_count": null,
      "metadata": {
        "id": "U7rrJRR_yUtm"
      },
      "outputs": [],
      "source": [
        "pred_train=lr.predict(xtrain)\n",
        "pred_test=lr.predict(xtest)"
      ]
    },
    {
      "cell_type": "code",
      "execution_count": null,
      "metadata": {
        "colab": {
          "base_uri": "https://localhost:8080/"
        },
        "id": "Rf-KZuFByUwH",
        "outputId": "78307562-432f-429b-807e-4151e3300de0"
      },
      "outputs": [
        {
          "name": "stdout",
          "output_type": "stream",
          "text": [
            "Accuracy Score(Training Dataset) = 0.8441925615289426\n",
            "Accuracy Score(Test Dataset) = 0.8400934964938814\n"
          ]
        }
      ],
      "source": [
        "from sklearn import metrics\n",
        "print(\"Accuracy Score(Training Dataset) =\", format(metrics.accuracy_score( pred_train,ytrain)))\n",
        "print(\"Accuracy Score(Test Dataset) =\", format(metrics.accuracy_score( pred_test,ytest)))"
      ]
    },
    {
      "cell_type": "code",
      "execution_count": null,
      "metadata": {
        "id": "udQ39uVUyUyX"
      },
      "outputs": [],
      "source": [
        "from sklearn import svm #support vector machine"
      ]
    },
    {
      "cell_type": "code",
      "execution_count": null,
      "metadata": {
        "id": "ObY5Z92GyU1L"
      },
      "outputs": [],
      "source": [
        "svc=svm.SVC(kernel='poly')#,degree=3,C=1,decision_function_shape='ovo')"
      ]
    },
    {
      "cell_type": "code",
      "execution_count": null,
      "metadata": {
        "colab": {
          "background_save": true
        },
        "id": "6_WktbJryU37",
        "outputId": "0c6f0960-48fa-4a43-c90a-67b070c5d3b3"
      },
      "outputs": [
        {
          "data": {
            "text/plain": [
              "SVC(kernel='poly')"
            ]
          },
          "execution_count": null,
          "metadata": {},
          "output_type": "execute_result"
        }
      ],
      "source": [
        "svc.fit(xtrain,np.ravel(ytrain))"
      ]
    },
    {
      "cell_type": "code",
      "execution_count": null,
      "metadata": {
        "id": "qt6LvL42yU7b"
      },
      "outputs": [],
      "source": [
        "svm_pred_train=svc.predict(xtrain)\n",
        "svm_pred_test=svc.predict(xtest)"
      ]
    },
    {
      "cell_type": "code",
      "execution_count": null,
      "metadata": {
        "colab": {
          "base_uri": "https://localhost:8080/"
        },
        "id": "e2-2mWF14aFL",
        "outputId": "e1cf1a2c-7a37-44f2-de99-bf00b3e392fb"
      },
      "outputs": [
        {
          "name": "stdout",
          "output_type": "stream",
          "text": [
            "Accuracy_Score(Training Dataset)= 0.8494517393097759\n",
            "Accuracy_Score(Test Dataset) = 0.8428777670837344\n"
          ]
        }
      ],
      "source": [
        "from sklearn import metrics\n",
        "print(\"Accuracy_Score(Training Dataset)=\", format(metrics.accuracy_score( svm_pred_train,ytrain)))\n",
        "print(\"Accuracy_Score(Test Dataset) =\", format(metrics.accuracy_score( svm_pred_test,ytest)))"
      ]
    },
    {
      "cell_type": "code",
      "execution_count": null,
      "metadata": {
        "colab": {
          "base_uri": "https://localhost:8080/"
        },
        "id": "dBUBKONK4aHw",
        "outputId": "cee54ba8-bf43-46e3-aa3f-1c928a5854cd"
      },
      "outputs": [
        {
          "name": "stdout",
          "output_type": "stream",
          "text": [
            "Confusion Matrix:\n",
            "\n",
            "[[21944   704]\n",
            " [ 3867  2577]]\n"
          ]
        }
      ],
      "source": [
        "from sklearn import metrics\n",
        "print(\"Confusion Matrix:\\n\")\n",
        "print(metrics.confusion_matrix(ytest,svm_pred_test))"
      ]
    },
    {
      "cell_type": "code",
      "execution_count": null,
      "metadata": {
        "colab": {
          "base_uri": "https://localhost:8080/"
        },
        "id": "pZ7slDpb4aKb",
        "outputId": "a67d927e-3bbb-40f7-aa28-a5f2ff3be1b4"
      },
      "outputs": [
        {
          "name": "stdout",
          "output_type": "stream",
          "text": [
            "[    0     1     2 ... 14543 14544 14545]\n",
            "[14546 14547 14548 ... 29089 29090 29091]\n",
            "[29092 29093 29094 ... 43635 43636 43637]\n",
            "[43638 43639 43640 ... 58181 58182 58183]\n",
            "[58184 58185 58186 ... 72727 72728 72729]\n",
            "[72730 72731 72732 ... 87273 87274 87275]\n",
            "[ 87276  87277  87278 ... 101819 101820 101821]\n",
            "[101822 101823 101824 ... 116365 116366 116367]\n",
            "[116368 116369 116370 ... 130911 130912 130913]\n",
            "[130914 130915 130916 ... 145457 145458 145459]\n"
          ]
        }
      ],
      "source": [
        "#k-fold validation for logistic regression model\n",
        "from sklearn.metrics import mean_absolute_error\n",
        "from sklearn.model_selection import KFold\n",
        "kf = KFold(n_splits=10)\n",
        "lr_list_train_error = []\n",
        "lr_list_test_error = []\n",
        "\n",
        "  \n",
        "for train_index, test_index in kf.split(x_scaled):\n",
        "    print(test_index)\n",
        "  \n",
        "    x_train_fold, x_test_fold = x_scaled[train_index], x_scaled[test_index]\n",
        "    y_train_fold, y_test_fold = y[train_index], y[test_index]\n",
        "    lr.fit(x_train_fold, y_train_fold)\n",
        "    lr_train = lr.predict(x_train_fold)\n",
        "    lr_test = lr.predict(x_test_fold)\n",
        "    fold_train_error = mean_absolute_error(lr_train,y_train_fold)\n",
        "    lr_list_train_error.append(fold_train_error )\n",
        "    fold_test_error = mean_absolute_error(lr_test,y_test_fold)\n",
        "    lr_list_test_error.append(fold_test_error )"
      ]
    },
    {
      "cell_type": "code",
      "execution_count": null,
      "metadata": {
        "colab": {
          "background_save": true,
          "base_uri": "https://localhost:8080/"
        },
        "id": "fPXMq7IMcAAg",
        "outputId": "4593030c-082f-4e78-d35c-264a19b3f12b"
      },
      "outputs": [
        {
          "name": "stdout",
          "output_type": "stream",
          "text": [
            "[    0     1     2 ... 14543 14544 14545]\n",
            "[14546 14547 14548 ... 29089 29090 29091]\n",
            "[29092 29093 29094 ... 43635 43636 43637]\n",
            "[43638 43639 43640 ... 58181 58182 58183]\n"
          ]
        }
      ],
      "source": [
        "#k-fold validation for svm model\n",
        "from sklearn.metrics import mean_absolute_error\n",
        "from sklearn.model_selection import KFold\n",
        "kf = KFold(n_splits=10)\n",
        "svc_list_train_error = []\n",
        "svc_list_test_error = []\n",
        "\n",
        "  \n",
        "for train_index, test_index in kf.split(c):\n",
        "    print(test_index)\n",
        "    \n",
        "    x_train_fold, x_test_fold = c.iloc[train_index], c.iloc[test_index]\n",
        "    y_train_fold, y_test_fold = y.iloc[train_index], y.iloc[test_index]\n",
        "    svc.fit(x_train_fold, y_train_fold)\n",
        "    svc_train = svc.predict(x_train_fold)\n",
        "    svc_test = svc.predict(x_test_fold)\n",
        "    svc_train_error = mean_absolute_error(svc_train,y_train_fold)\n",
        "    svc_list_train_error.append(fold_train_error )\n",
        "    fold_test_error = mean_absolute_error(svc_test,y_test_fold)\n",
        "    svc_list_test_error.append(fold_test_error )"
      ]
    },
    {
      "cell_type": "code",
      "execution_count": null,
      "metadata": {
        "colab": {
          "base_uri": "https://localhost:8080/",
          "height": 310
        },
        "id": "0pIv2pzH4aQM",
        "outputId": "6a2d07c1-890a-4680-dd97-98c280fbc7bd"
      },
      "outputs": [
        {
          "data": {
            "image/png": "[encoded data removed]",
            "text/plain": [
              "<Figure size 432x288 with 1 Axes>"
            ]
          },
          "metadata": {},
          "output_type": "display_data"
        }
      ],
      "source": [
        "import matplotlib.pyplot as plt\n",
        "plt.plot(range(1,kf.get_n_splits()+1),np.array(lr_list_train_error ).ravel(),'o-',label=\"Traning Error\")\n",
        "\n",
        "plt.plot(range(1,kf.get_n_splits()+1),np.array(lr_list_test_error ),'o-',label=\"Test Error\")\n",
        "\n",
        "plt.xlabel(\"no.of. folds\")\n",
        "plt.ylabel(\"Error Values\")\n",
        "plt.title(\"K-FOLD VALIDATION GRAPH FOR LOGISTIC REGRESSION MODEL \\nTest Error across Folds\")\n",
        "plt.legend()\n",
        "plt.show()"
      ]
    },
    {
      "cell_type": "code",
      "execution_count": null,
      "metadata": {
        "id": "NGLOdXnPb9Ps"
      },
      "outputs": [],
      "source": [
        "plt.plot(range(1,kf.get_n_splits()+1),np.array(svc_list_train_error ),'o-',label=\"Training Error\")\n",
        "plt.plot(range(1,kf.get_n_splits()+1),np.array(svc_list_test_error ),'o-',label=\"Test Error\")\n",
        "plt.xlabel(\"No.of. folds\")\n",
        "plt.ylabel(\"Test error\")\n",
        "plt.title(\"K-FOLD VALIDATION GRAPH FOR SVM MODEL\\nError across Folds\")\n",
        "plt.legend()\n",
        "plt.show()\n"
      ]
    }
  ],
  "metadata": {
    "colab": {
      "provenance": []
    },
    "kernelspec": {
      "display_name": "Python 3",
      "name": "python3"
    },
    "language_info": {
      "name": "python"
    }
  },
  "nbformat": 4,
  "nbformat_minor": 0
}